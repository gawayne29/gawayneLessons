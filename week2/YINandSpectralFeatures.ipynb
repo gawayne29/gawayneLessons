{
 "cells": [
  {
   "cell_type": "markdown",
   "metadata": {
    "colab_type": "text",
    "id": "view-in-github"
   },
   "source": [
    "<a href=\"https://colab.research.google.com/github/gawayne29/gawayneLessons/blob/main/week2/YINandSpectralFeatures.ipynb\" target=\"_parent\"><img src=\"https://colab.research.google.com/assets/colab-badge.svg\" alt=\"Open In Colab\"/></a>"
   ]
  },
  {
   "cell_type": "markdown",
   "metadata": {
    "id": "qT1qYRUg965f"
   },
   "source": [
    "## YIN algorithm, implemented in Aubio: https://aubio.org/"
   ]
  },
  {
   "cell_type": "code",
   "execution_count": 5,
   "metadata": {
    "colab": {
     "base_uri": "https://localhost:8080/"
    },
    "id": "gP8kuz4j965g",
    "outputId": "f9ac09cf-fffc-482b-fd5c-b64408a764ab"
   },
   "outputs": [
    {
     "name": "stdout",
     "output_type": "stream",
     "text": [
      "Requirement already satisfied: aubio in /Users/gcportable/anaconda3/lib/python3.11/site-packages (0.4.9)\n",
      "Requirement already satisfied: numpy in /Users/gcportable/anaconda3/lib/python3.11/site-packages (from aubio) (1.24.3)\n",
      "fatal: destination path 'gawayneLessons' already exists and is not an empty directory.\n"
     ]
    }
   ],
   "source": [
    "import numpy as np\n",
    "import matplotlib.pyplot as plt\n",
    "import librosa\n",
    "import librosa.display\n",
    "import IPython.display\n",
    "import pandas\n",
    "import matplotlib.pyplot as plt\n",
    "import numpy as np\n",
    "!pip install aubio\n",
    "import aubio\n",
    "\n",
    "import librosa\n",
    "import librosa.display\n",
    "import pandas\n",
    "\n",
    "!git clone https://github.com/gawayne29/gawayneLessons.git"
   ]
  },
  {
   "cell_type": "code",
   "execution_count": 6,
   "metadata": {
    "id": "wXX2ZTVW965g"
   },
   "outputs": [
    {
     "ename": "RuntimeError",
     "evalue": "AUBIO ERROR: source_wavread: Failed opening /content/gawayneLessons/files/Michael - Jackson Earth Song - TRIM.wav (No such file or directory)",
     "output_type": "error",
     "traceback": [
      "\u001b[0;31m---------------------------------------------------------------------------\u001b[0m",
      "\u001b[0;31mRuntimeError\u001b[0m                              Traceback (most recent call last)",
      "Cell \u001b[0;32mIn[6], line 7\u001b[0m\n\u001b[1;32m      5\u001b[0m win_s \u001b[38;5;241m=\u001b[39m \u001b[38;5;241m1764\u001b[39m \u001b[38;5;241m/\u001b[39m\u001b[38;5;241m/\u001b[39m downsample \u001b[38;5;66;03m# fft size\u001b[39;00m\n\u001b[1;32m      6\u001b[0m hop_s \u001b[38;5;241m=\u001b[39m \u001b[38;5;241m441\u001b[39m \u001b[38;5;241m/\u001b[39m\u001b[38;5;241m/\u001b[39m downsample \u001b[38;5;66;03m# hop size\u001b[39;00m\n\u001b[0;32m----> 7\u001b[0m s \u001b[38;5;241m=\u001b[39m aubio\u001b[38;5;241m.\u001b[39msource(filename, samplerate, hop_s)\n\u001b[1;32m      8\u001b[0m samplerate \u001b[38;5;241m=\u001b[39m s\u001b[38;5;241m.\u001b[39msamplerate\n\u001b[1;32m      9\u001b[0m tolerance \u001b[38;5;241m=\u001b[39m \u001b[38;5;241m0.1\u001b[39m\n",
      "\u001b[0;31mRuntimeError\u001b[0m: AUBIO ERROR: source_wavread: Failed opening /content/gawayneLessons/files/Michael - Jackson Earth Song - TRIM.wav (No such file or directory)"
     ]
    }
   ],
   "source": []
  },
  {
   "cell_type": "code",
   "execution_count": null,
   "metadata": {
    "colab": {
     "base_uri": "https://localhost:8080/",
     "height": 570
    },
    "id": "iI_fDPeZ965h",
    "outputId": "682149cc-931c-43aa-da09-e0f4b946943c"
   },
   "outputs": [],
   "source": []
  },
  {
   "cell_type": "markdown",
   "metadata": {
    "id": "PV98mzva965h"
   },
   "source": [
    "## Some notes on the functions\n",
    "\n",
    "### Function 1\n",
    "yinvalues = getYinVals(filename)\n",
    "\n",
    "### Function 2\n",
    "subplotFunc(yinvalues,subplotNum,additionalargs)\n",
    "\n",
    "Calls:\n",
    "plt.subplot(1,1,subplotNume) and plt.plot(np.asarray(yinvalues))\n",
    "\n",
    "### How you'll call the functions\n",
    "\n",
    "yinvalues1 = getYinVals(filename1)\n",
    "yinvalues2 = getYinVals(filename2)\n",
    "yinvalues3 = getYinVals(filename3)\n",
    "yinvalues4 = getYinVals(filename4)\n",
    "yinvalues5 = getYinVals(filename5)\n",
    "yinvalues6 = getYinVals(filename6)\n",
    "\n",
    "plt.figure(figsize=(12, 8))\n",
    "\n",
    "subplotFunc(yinvalues1,1,additionalargs)\n",
    "subplotFunc(yinvalues2,2,additionalargs)\n",
    "subplotFunc(yinvalues3,3,additionalargs)\n",
    "subplotFunc(yinvalues4,4,additionalargs)\n",
    "subplotFunc(yinvalues5,5,additionalargs)\n",
    "subplotFunc(yinvalues6,6,additionalargs)"
   ]
  },
  {
   "cell_type": "markdown",
   "metadata": {
    "id": "ZmdKk1ofBSSu"
   },
   "source": [
    "# pYIN algorithm, implemented in librosa: https://librosa.org/"
   ]
  },
  {
   "cell_type": "code",
   "execution_count": 7,
   "metadata": {
    "colab": {
     "base_uri": "https://localhost:8080/"
    },
    "id": "s1pSuJwvBZ60",
    "outputId": "bdff99d8-223c-45ce-ca8a-d9ab3648edc2"
   },
   "outputs": [
    {
     "name": "stdout",
     "output_type": "stream",
     "text": [
      "fatal: destination path 'gawayneLessons' already exists and is not an empty directory.\r\n"
     ]
    }
   ],
   "source": []
  },
  {
   "cell_type": "code",
   "execution_count": 8,
   "metadata": {
    "id": "BhkkXWbT965h"
   },
   "outputs": [
    {
     "name": "stderr",
     "output_type": "stream",
     "text": [
      "/var/folders/x_/9x4q2pmj4rlctmx19n0hp1h00000gn/T/ipykernel_68641/1830144333.py:6: UserWarning: PySoundFile failed. Trying audioread instead.\n",
      "  y, sr = librosa.load('/content/gawayneLessons/files/Michael - Jackson Earth Song - TRIM.wav')\n",
      "/Users/gcportable/anaconda3/lib/python3.11/site-packages/librosa/core/audio.py:183: FutureWarning: librosa.core.audio.__audioread_load\n",
      "\tDeprecated as of librosa version 0.10.0.\n",
      "\tIt will be removed in librosa version 1.0.\n",
      "  y, sr_native = __audioread_load(path, offset, duration, dtype)\n"
     ]
    },
    {
     "ename": "FileNotFoundError",
     "evalue": "[Errno 2] No such file or directory: '/content/gawayneLessons/files/Michael - Jackson Earth Song - TRIM.wav'",
     "output_type": "error",
     "traceback": [
      "\u001b[0;31m---------------------------------------------------------------------------\u001b[0m",
      "\u001b[0;31mLibsndfileError\u001b[0m                           Traceback (most recent call last)",
      "File \u001b[0;32m~/anaconda3/lib/python3.11/site-packages/librosa/core/audio.py:175\u001b[0m, in \u001b[0;36mload\u001b[0;34m(path, sr, mono, offset, duration, dtype, res_type)\u001b[0m\n\u001b[1;32m    174\u001b[0m \u001b[38;5;28;01mtry\u001b[39;00m:\n\u001b[0;32m--> 175\u001b[0m     y, sr_native \u001b[38;5;241m=\u001b[39m __soundfile_load(path, offset, duration, dtype)\n\u001b[1;32m    177\u001b[0m \u001b[38;5;28;01mexcept\u001b[39;00m sf\u001b[38;5;241m.\u001b[39mSoundFileRuntimeError \u001b[38;5;28;01mas\u001b[39;00m exc:\n\u001b[1;32m    178\u001b[0m     \u001b[38;5;66;03m# If soundfile failed, try audioread instead\u001b[39;00m\n",
      "File \u001b[0;32m~/anaconda3/lib/python3.11/site-packages/librosa/core/audio.py:208\u001b[0m, in \u001b[0;36m__soundfile_load\u001b[0;34m(path, offset, duration, dtype)\u001b[0m\n\u001b[1;32m    206\u001b[0m \u001b[38;5;28;01melse\u001b[39;00m:\n\u001b[1;32m    207\u001b[0m     \u001b[38;5;66;03m# Otherwise, create the soundfile object\u001b[39;00m\n\u001b[0;32m--> 208\u001b[0m     context \u001b[38;5;241m=\u001b[39m sf\u001b[38;5;241m.\u001b[39mSoundFile(path)\n\u001b[1;32m    210\u001b[0m \u001b[38;5;28;01mwith\u001b[39;00m context \u001b[38;5;28;01mas\u001b[39;00m sf_desc:\n",
      "File \u001b[0;32m~/anaconda3/lib/python3.11/site-packages/soundfile.py:658\u001b[0m, in \u001b[0;36mSoundFile.__init__\u001b[0;34m(self, file, mode, samplerate, channels, subtype, endian, format, closefd)\u001b[0m\n\u001b[1;32m    656\u001b[0m \u001b[38;5;28mself\u001b[39m\u001b[38;5;241m.\u001b[39m_info \u001b[38;5;241m=\u001b[39m _create_info_struct(file, mode, samplerate, channels,\n\u001b[1;32m    657\u001b[0m                                  \u001b[38;5;28mformat\u001b[39m, subtype, endian)\n\u001b[0;32m--> 658\u001b[0m \u001b[38;5;28mself\u001b[39m\u001b[38;5;241m.\u001b[39m_file \u001b[38;5;241m=\u001b[39m \u001b[38;5;28mself\u001b[39m\u001b[38;5;241m.\u001b[39m_open(file, mode_int, closefd)\n\u001b[1;32m    659\u001b[0m \u001b[38;5;28;01mif\u001b[39;00m \u001b[38;5;28mset\u001b[39m(mode)\u001b[38;5;241m.\u001b[39missuperset(\u001b[38;5;124m'\u001b[39m\u001b[38;5;124mr+\u001b[39m\u001b[38;5;124m'\u001b[39m) \u001b[38;5;129;01mand\u001b[39;00m \u001b[38;5;28mself\u001b[39m\u001b[38;5;241m.\u001b[39mseekable():\n\u001b[1;32m    660\u001b[0m     \u001b[38;5;66;03m# Move write position to 0 (like in Python file objects)\u001b[39;00m\n",
      "File \u001b[0;32m~/anaconda3/lib/python3.11/site-packages/soundfile.py:1216\u001b[0m, in \u001b[0;36mSoundFile._open\u001b[0;34m(self, file, mode_int, closefd)\u001b[0m\n\u001b[1;32m   1215\u001b[0m     err \u001b[38;5;241m=\u001b[39m _snd\u001b[38;5;241m.\u001b[39msf_error(file_ptr)\n\u001b[0;32m-> 1216\u001b[0m     \u001b[38;5;28;01mraise\u001b[39;00m LibsndfileError(err, prefix\u001b[38;5;241m=\u001b[39m\u001b[38;5;124m\"\u001b[39m\u001b[38;5;124mError opening \u001b[39m\u001b[38;5;132;01m{0!r}\u001b[39;00m\u001b[38;5;124m: \u001b[39m\u001b[38;5;124m\"\u001b[39m\u001b[38;5;241m.\u001b[39mformat(\u001b[38;5;28mself\u001b[39m\u001b[38;5;241m.\u001b[39mname))\n\u001b[1;32m   1217\u001b[0m \u001b[38;5;28;01mif\u001b[39;00m mode_int \u001b[38;5;241m==\u001b[39m _snd\u001b[38;5;241m.\u001b[39mSFM_WRITE:\n\u001b[1;32m   1218\u001b[0m     \u001b[38;5;66;03m# Due to a bug in libsndfile version <= 1.0.25, frames != 0\u001b[39;00m\n\u001b[1;32m   1219\u001b[0m     \u001b[38;5;66;03m# when opening a named pipe in SFM_WRITE mode.\u001b[39;00m\n\u001b[1;32m   1220\u001b[0m     \u001b[38;5;66;03m# See http://github.com/erikd/libsndfile/issues/77.\u001b[39;00m\n",
      "\u001b[0;31mLibsndfileError\u001b[0m: Error opening '/content/gawayneLessons/files/Michael - Jackson Earth Song - TRIM.wav': System error.",
      "\nDuring handling of the above exception, another exception occurred:\n",
      "\u001b[0;31mFileNotFoundError\u001b[0m                         Traceback (most recent call last)",
      "Cell \u001b[0;32mIn[8], line 6\u001b[0m\n\u001b[1;32m      1\u001b[0m \u001b[38;5;66;03m# USE THIS CODE\u001b[39;00m\n\u001b[1;32m      2\u001b[0m \n\u001b[1;32m      3\u001b[0m \u001b[38;5;66;03m#https://librosa.org/doc/latest/generated/librosa.pyin.html\u001b[39;00m\n\u001b[1;32m      4\u001b[0m \n\u001b[1;32m      5\u001b[0m \u001b[38;5;66;03m# loading the audio file\u001b[39;00m\n\u001b[0;32m----> 6\u001b[0m y, sr \u001b[38;5;241m=\u001b[39m librosa\u001b[38;5;241m.\u001b[39mload(\u001b[38;5;124m'\u001b[39m\u001b[38;5;124m/content/gawayneLessons/files/Michael - Jackson Earth Song - TRIM.wav\u001b[39m\u001b[38;5;124m'\u001b[39m)\n\u001b[1;32m      8\u001b[0m \u001b[38;5;66;03m# runing the f0 estimation\u001b[39;00m\n\u001b[1;32m      9\u001b[0m f0, voiced_flag, voiced_probs \u001b[38;5;241m=\u001b[39m librosa\u001b[38;5;241m.\u001b[39mpyin(y,\n\u001b[1;32m     10\u001b[0m                                              fmin\u001b[38;5;241m=\u001b[39mlibrosa\u001b[38;5;241m.\u001b[39mnote_to_hz(\u001b[38;5;124m'\u001b[39m\u001b[38;5;124mC2\u001b[39m\u001b[38;5;124m'\u001b[39m),\n\u001b[1;32m     11\u001b[0m                                              fmax\u001b[38;5;241m=\u001b[39mlibrosa\u001b[38;5;241m.\u001b[39mnote_to_hz(\u001b[38;5;124m'\u001b[39m\u001b[38;5;124mC7\u001b[39m\u001b[38;5;124m'\u001b[39m))\n",
      "File \u001b[0;32m~/anaconda3/lib/python3.11/site-packages/librosa/core/audio.py:183\u001b[0m, in \u001b[0;36mload\u001b[0;34m(path, sr, mono, offset, duration, dtype, res_type)\u001b[0m\n\u001b[1;32m    179\u001b[0m \u001b[38;5;28;01mif\u001b[39;00m \u001b[38;5;28misinstance\u001b[39m(path, (\u001b[38;5;28mstr\u001b[39m, pathlib\u001b[38;5;241m.\u001b[39mPurePath)):\n\u001b[1;32m    180\u001b[0m     warnings\u001b[38;5;241m.\u001b[39mwarn(\n\u001b[1;32m    181\u001b[0m         \u001b[38;5;124m\"\u001b[39m\u001b[38;5;124mPySoundFile failed. Trying audioread instead.\u001b[39m\u001b[38;5;124m\"\u001b[39m, stacklevel\u001b[38;5;241m=\u001b[39m\u001b[38;5;241m2\u001b[39m\n\u001b[1;32m    182\u001b[0m     )\n\u001b[0;32m--> 183\u001b[0m     y, sr_native \u001b[38;5;241m=\u001b[39m __audioread_load(path, offset, duration, dtype)\n\u001b[1;32m    184\u001b[0m \u001b[38;5;28;01melse\u001b[39;00m:\n\u001b[1;32m    185\u001b[0m     \u001b[38;5;28;01mraise\u001b[39;00m exc\n",
      "File \u001b[0;32m~/anaconda3/lib/python3.11/site-packages/decorator.py:232\u001b[0m, in \u001b[0;36mdecorate.<locals>.fun\u001b[0;34m(*args, **kw)\u001b[0m\n\u001b[1;32m    230\u001b[0m \u001b[38;5;28;01mif\u001b[39;00m \u001b[38;5;129;01mnot\u001b[39;00m kwsyntax:\n\u001b[1;32m    231\u001b[0m     args, kw \u001b[38;5;241m=\u001b[39m fix(args, kw, sig)\n\u001b[0;32m--> 232\u001b[0m \u001b[38;5;28;01mreturn\u001b[39;00m caller(func, \u001b[38;5;241m*\u001b[39m(extras \u001b[38;5;241m+\u001b[39m args), \u001b[38;5;241m*\u001b[39m\u001b[38;5;241m*\u001b[39mkw)\n",
      "File \u001b[0;32m~/anaconda3/lib/python3.11/site-packages/librosa/util/decorators.py:59\u001b[0m, in \u001b[0;36mdeprecated.<locals>.__wrapper\u001b[0;34m(func, *args, **kwargs)\u001b[0m\n\u001b[1;32m     50\u001b[0m \u001b[38;5;250m\u001b[39m\u001b[38;5;124;03m\"\"\"Warn the user, and then proceed.\"\"\"\u001b[39;00m\n\u001b[1;32m     51\u001b[0m warnings\u001b[38;5;241m.\u001b[39mwarn(\n\u001b[1;32m     52\u001b[0m     \u001b[38;5;124m\"\u001b[39m\u001b[38;5;132;01m{:s}\u001b[39;00m\u001b[38;5;124m.\u001b[39m\u001b[38;5;132;01m{:s}\u001b[39;00m\u001b[38;5;130;01m\\n\u001b[39;00m\u001b[38;5;130;01m\\t\u001b[39;00m\u001b[38;5;124mDeprecated as of librosa version \u001b[39m\u001b[38;5;132;01m{:s}\u001b[39;00m\u001b[38;5;124m.\u001b[39m\u001b[38;5;124m\"\u001b[39m\n\u001b[1;32m     53\u001b[0m     \u001b[38;5;124m\"\u001b[39m\u001b[38;5;130;01m\\n\u001b[39;00m\u001b[38;5;130;01m\\t\u001b[39;00m\u001b[38;5;124mIt will be removed in librosa version \u001b[39m\u001b[38;5;132;01m{:s}\u001b[39;00m\u001b[38;5;124m.\u001b[39m\u001b[38;5;124m\"\u001b[39m\u001b[38;5;241m.\u001b[39mformat(\n\u001b[0;32m   (...)\u001b[0m\n\u001b[1;32m     57\u001b[0m     stacklevel\u001b[38;5;241m=\u001b[39m\u001b[38;5;241m3\u001b[39m,  \u001b[38;5;66;03m# Would be 2, but the decorator adds a level\u001b[39;00m\n\u001b[1;32m     58\u001b[0m )\n\u001b[0;32m---> 59\u001b[0m \u001b[38;5;28;01mreturn\u001b[39;00m func(\u001b[38;5;241m*\u001b[39margs, \u001b[38;5;241m*\u001b[39m\u001b[38;5;241m*\u001b[39mkwargs)\n",
      "File \u001b[0;32m~/anaconda3/lib/python3.11/site-packages/librosa/core/audio.py:239\u001b[0m, in \u001b[0;36m__audioread_load\u001b[0;34m(path, offset, duration, dtype)\u001b[0m\n\u001b[1;32m    236\u001b[0m     reader \u001b[38;5;241m=\u001b[39m path\n\u001b[1;32m    237\u001b[0m \u001b[38;5;28;01melse\u001b[39;00m:\n\u001b[1;32m    238\u001b[0m     \u001b[38;5;66;03m# If the input was not an audioread object, try to open it\u001b[39;00m\n\u001b[0;32m--> 239\u001b[0m     reader \u001b[38;5;241m=\u001b[39m audioread\u001b[38;5;241m.\u001b[39maudio_open(path)\n\u001b[1;32m    241\u001b[0m \u001b[38;5;28;01mwith\u001b[39;00m reader \u001b[38;5;28;01mas\u001b[39;00m input_file:\n\u001b[1;32m    242\u001b[0m     sr_native \u001b[38;5;241m=\u001b[39m input_file\u001b[38;5;241m.\u001b[39msamplerate\n",
      "File \u001b[0;32m~/anaconda3/lib/python3.11/site-packages/audioread/__init__.py:127\u001b[0m, in \u001b[0;36maudio_open\u001b[0;34m(path, backends)\u001b[0m\n\u001b[1;32m    125\u001b[0m \u001b[38;5;28;01mfor\u001b[39;00m BackendClass \u001b[38;5;129;01min\u001b[39;00m backends:\n\u001b[1;32m    126\u001b[0m     \u001b[38;5;28;01mtry\u001b[39;00m:\n\u001b[0;32m--> 127\u001b[0m         \u001b[38;5;28;01mreturn\u001b[39;00m BackendClass(path)\n\u001b[1;32m    128\u001b[0m     \u001b[38;5;28;01mexcept\u001b[39;00m DecodeError:\n\u001b[1;32m    129\u001b[0m         \u001b[38;5;28;01mpass\u001b[39;00m\n",
      "File \u001b[0;32m~/anaconda3/lib/python3.11/site-packages/audioread/rawread.py:59\u001b[0m, in \u001b[0;36mRawAudioFile.__init__\u001b[0;34m(self, filename)\u001b[0m\n\u001b[1;32m     58\u001b[0m \u001b[38;5;28;01mdef\u001b[39;00m \u001b[38;5;21m__init__\u001b[39m(\u001b[38;5;28mself\u001b[39m, filename):\n\u001b[0;32m---> 59\u001b[0m     \u001b[38;5;28mself\u001b[39m\u001b[38;5;241m.\u001b[39m_fh \u001b[38;5;241m=\u001b[39m \u001b[38;5;28mopen\u001b[39m(filename, \u001b[38;5;124m'\u001b[39m\u001b[38;5;124mrb\u001b[39m\u001b[38;5;124m'\u001b[39m)\n\u001b[1;32m     61\u001b[0m     \u001b[38;5;28;01mtry\u001b[39;00m:\n\u001b[1;32m     62\u001b[0m         \u001b[38;5;28mself\u001b[39m\u001b[38;5;241m.\u001b[39m_file \u001b[38;5;241m=\u001b[39m aifc\u001b[38;5;241m.\u001b[39mopen(\u001b[38;5;28mself\u001b[39m\u001b[38;5;241m.\u001b[39m_fh)\n",
      "\u001b[0;31mFileNotFoundError\u001b[0m: [Errno 2] No such file or directory: '/content/gawayneLessons/files/Michael - Jackson Earth Song - TRIM.wav'"
     ]
    }
   ],
   "source": [
    "# USE THIS CODE\n",
    "\n",
    "#https://librosa.org/doc/latest/generated/librosa.pyin.html\n",
    "\n",
    "# loading the audio file\n",
    "y, sr = librosa.load('/content/gawayneLessons/files/Michael - Jackson Earth Song - TRIM.wav')\n",
    "\n",
    "# runing the f0 estimation\n",
    "f0, voiced_flag, voiced_probs = librosa.pyin(y,\n",
    "                                             fmin=librosa.note_to_hz('C2'),\n",
    "                                             fmax=librosa.note_to_hz('C7'))\n",
    "\n",
    "# is to create a vector of time points that corresponds to the audio (useful for plotting)\n",
    "times = librosa.times_like(f0)"
   ]
  },
  {
   "cell_type": "code",
   "execution_count": null,
   "metadata": {
    "colab": {
     "base_uri": "https://localhost:8080/",
     "height": 489
    },
    "id": "z7iFm0nqAkKM",
    "outputId": "c1443a87-48e8-4353-c2c7-cd27359c371b"
   },
   "outputs": [],
   "source": [
    "# USE THIS CODE\n",
    "\n",
    "# Overlay F0 over a spectrogram\n",
    "\n",
    "# run the short time fourier transform\n",
    "D = librosa.amplitude_to_db(np.abs(librosa.stft(y)), ref=np.max)\n",
    "\n",
    "# setting up subplots\n",
    "fig, ax = plt.subplots()\n",
    "\n",
    "# generating the spectrogram\n",
    "img = librosa.display.specshow(D, x_axis='time', y_axis='log', ax=ax)\n",
    "\n",
    "# plotting\n",
    "ax.set(title='pYIN fundamental frequency estimation')\n",
    "fig.colorbar(img, ax=ax, format=\"%+2.f dB\")\n",
    "ax.plot(times, f0, label='f0', color='cyan', linewidth=3)\n",
    "ax.legend(loc='upper right')"
   ]
  },
  {
   "cell_type": "code",
   "execution_count": null,
   "metadata": {
    "colab": {
     "base_uri": "https://localhost:8080/",
     "height": 1000
    },
    "id": "_HOR6NS41onO",
    "outputId": "f7edb65c-686f-420b-cb12-b922c981d14c"
   },
   "outputs": [],
   "source": [
    "import matplotlib.pyplot as plt\n",
    "import numpy as np\n",
    "import librosa\n",
    "\n",
    "def analyzeAudio(audioPath):\n",
    "  audioVals = {}\n",
    "  y, sr = librosa.load(audioPath)\n",
    "  audioVals['specCent'] =librosa.feature.spectral_centroid(y=y, sr=sr, n_fft=2048, hop_length=512, freq=None)\n",
    "  audioVals['specBand'] = librosa.feature.spectral_bandwidth(y=y, sr=sr, n_fft=2048, hop_length=512, freq=None)\n",
    "  audioVals['specContrast'] = librosa.feature.spectral_contrast(y=y, sr=sr, n_fft=2048, hop_length=512, freq=None)\n",
    "  audioVals['specFlatness'] = librosa.feature.spectral_flatness(y=y)\n",
    "\n",
    "  audioVals['f0'], voiced_flag, audioVals['voiced_probs'] = librosa.pyin(y,\n",
    "                                              fmin=librosa.note_to_hz('C2'),\n",
    "                                              fmax=librosa.note_to_hz('C7'))\n",
    "  audioVals['f0mean'] = np.nanmean(audioVals['f0'])\n",
    "\n",
    "\n",
    "\n",
    "  return audioVals\n",
    "\n",
    "def plotAudioVals(audioVals,audioPath,plotTitle,dataName):\n",
    "  y, sr = librosa.load(audioPath)\n",
    "  times = librosa.times_like(audioVals[dataName])\n",
    "  D = librosa.amplitude_to_db(np.abs(librosa.stft(y)), ref=np.max)\n",
    "  fig, ax = plt.subplots()\n",
    "  img = librosa.display.specshow(D, x_axis='time', y_axis='log', ax=ax)\n",
    "  ax.set(title=plotTitle)\n",
    "  fig.colorbar(img, ax=ax, format=\"%+2.f dB\")\n",
    "  ax.plot(times, audioVals[dataName], label=dataName, color='cyan', linewidth=3)\n",
    "  ax.legend(loc='upper right')\n",
    "  plt.show()\n",
    "\n",
    "  return\n",
    "\n",
    "\n",
    "\n",
    "\n",
    "audioPath = '/content/gawayneLessons/files/Israel IZ Kamakawiwoʻole - Somewhere over the Rainbow - TRIM.wav'\n",
    "file1 = analyzeAudio(audioPath)\n",
    "plotAudioVals(file1,audioPath,'pYIN fundamental frequency estimation','f0')\n",
    "\n",
    "audioPath = '/content/gawayneLessons/files/Israel IZ Kamakawiwoʻole - Somewhere over the Rainbow - VOCALS - TRIM.wav'\n",
    "file1b = analyzeAudio(audioPath)\n",
    "plotAudioVals(file1,audioPath,'pYIN fundamental frequency estimation','f0')\n",
    "\n",
    "audioPath = '/content/gawayneLessons/files/Michael - Jackson Earth Song - TRIM.wav'\n",
    "file2 = analyzeAudio(audioPath)\n",
    "plotAudioVals(file2,audioPath,'pYIN fundamental frequency estimation','f0')\n",
    "\n",
    "audioPath = '/content/gawayneLessons/files/Michael - Jackson Earth Song - VOCALS - TRIM.wav'\n",
    "file2b = analyzeAudio(audioPath)\n",
    "plotAudioVals(file2,audioPath,'pYIN fundamental frequency estimation','f0')\n",
    "\n",
    "audioPath = '/content/gawayneLessons/files/Zaini - Wherever you would call me - TRIM.wav'\n",
    "file3 = analyzeAudio(audioPath)\n",
    "plotAudioVals(file3,audioPath,'pYIN fundamental frequency estimation','f0')\n",
    "\n",
    "audioPath = '/content/gawayneLessons/files/Zaini - Wherever you would call me - VOCALS - TRIM.wav'\n",
    "file3b = analyzeAudio(audioPath)\n",
    "plotAudioVals(file3,audioPath,'pYIN fundamental frequency estimation','f0')\n"
   ]
  },
  {
   "cell_type": "code",
   "execution_count": null,
   "metadata": {
    "id": "ydh8gJB4fkYS"
   },
   "outputs": [],
   "source": [
    "audioPathList = ['/content/gawayneLessons/files/Israel IZ Kamakawiwoʻole - Somewhere over the Rainbow - TRIM.wav', '/content/gawayneLessons/files/Israel IZ Kamakawiwoʻole - Somewhere over the Rainbow - VOCALS - TRIM.wav',\n",
    "'/content/gawayneLessons/files/Michael - Jackson Earth Song - TRIM.wav', '/content/gawayneLessons/files/Michael - Jackson Earth Song - VOCALS - TRIM.wav', '/content/gawayneLessons/files/Zaini - Wherever you would call me - TRIM.wav', '/content/gawayneLessons/files/Zaini - Wherever you would call me - VOCALS - TRIM.wav']\n",
    "\n",
    "for file in audioPathList:\n",
    "  analyzeAudio(file)"
   ]
  },
  {
   "cell_type": "code",
   "execution_count": null,
   "metadata": {
    "colab": {
     "base_uri": "https://localhost:8080/",
     "height": 451
    },
    "id": "BbmETLtkBqGU",
    "outputId": "4805dadd-4752-4eec-8023-81aae057ea9b"
   },
   "outputs": [],
   "source": [
    "fig, ax = plt.subplots(2)\n",
    "ax[0].plot(times, f0)\n",
    "ax[1].plot(times, voiced_probs)"
   ]
  },
  {
   "cell_type": "code",
   "execution_count": null,
   "metadata": {
    "colab": {
     "base_uri": "https://localhost:8080/",
     "height": 447
    },
    "id": "WKz7Sz2RiH_E",
    "outputId": "58ab8cf9-a8fb-4de9-acd9-0639cf045251"
   },
   "outputs": [],
   "source": [
    "plt.plot(file1b['f0'])\n",
    "print(file1b['f0mean'])"
   ]
  },
  {
   "cell_type": "code",
   "execution_count": null,
   "metadata": {
    "colab": {
     "base_uri": "https://localhost:8080/",
     "height": 447
    },
    "id": "iQOtRTpSiOG2",
    "outputId": "ae817d24-1019-49aa-f33d-9c682b9867f8"
   },
   "outputs": [],
   "source": [
    "plt.plot(file1b['voiced_probs'])"
   ]
  },
  {
   "cell_type": "code",
   "execution_count": null,
   "metadata": {
    "colab": {
     "base_uri": "https://localhost:8080/",
     "height": 447
    },
    "id": "peXzzWGMidkP",
    "outputId": "e2fa747f-dcb6-41db-b2ac-b9b445f82b67"
   },
   "outputs": [],
   "source": [
    "plt.plot(file1b['f0'][file1b['voiced_probs']>0.8])\n",
    "print(np.mean(file1b['f0'][file1b['voiced_probs']>0.8]))"
   ]
  },
  {
   "cell_type": "code",
   "execution_count": null,
   "metadata": {
    "colab": {
     "base_uri": "https://localhost:8080/"
    },
    "id": "l9gmUhKZjE6h",
    "outputId": "904839db-3403-4562-de7d-08bc778eb09c"
   },
   "outputs": [],
   "source": [
    "print(np.mean(file1b['f0'][file1b['voiced_probs']>0.8]))\n",
    "print(np.mean(file2b['f0'][file2b['voiced_probs']>0.8]))\n",
    "print(np.mean(file3b['f0'][file3b['voiced_probs']>0.8]))"
   ]
  },
  {
   "cell_type": "markdown",
   "metadata": {
    "id": "JCdjveUEkAZm"
   },
   "source": [
    "For next week create a function that call spectral centroid, spectral bandwidth, spectral constrast, and spectral flatness\n",
    "\n",
    "\n",
    "## spectral centroid\n",
    "    audioVals['specCent']=librosa.feature.spectral_centroid(y=sig, sr=sr, n_fft=2048, hop_length=512, freq=None)\n",
    "    \n",
    "## spectral bandwidth\n",
    "    audioVals['specBand']=librosa.feature.spectral_bandwidth(y=sig, sr=sr, n_fft=2048, hop_length=512, freq=None)\n",
    "    \n",
    "## spectral contrast\n",
    "    audioVals['specContrast']=librosa.feature.spectral_contrast(y=sig, sr=sr, n_fft=2048, hop_length=512, freq=None)\n",
    "    \n",
    "## spectral flatness\n",
    "    audioVals['specFlatness']=librosa.feature.spectral_flatness(y=sig)"
   ]
  },
  {
   "cell_type": "markdown",
   "metadata": {
    "id": "rY6MhqUZlaJ7"
   },
   "source": [
    "The function will return the dictionary audioVals and you'll be able to plot or do calculations on the f0, specCent, specBand, specContrast, specFlatness elements"
   ]
  },
  {
   "cell_type": "code",
   "execution_count": null,
   "metadata": {
    "id": "vTID32F1j-YA"
   },
   "outputs": [],
   "source": []
  },
  {
   "cell_type": "code",
   "execution_count": null,
   "metadata": {
    "id": "fGqp0_FZfxbT"
   },
   "outputs": [],
   "source": [
    "def getOnsetsEnv(sig,sr=44100):\n",
    "\n",
    "    o_env = librosa.onset.onset_strength(sig, sr=sr)\n",
    "    times = librosa.frames_to_time(np.arange(len(o_env)), sr=sr)\n",
    "    onset_frames = librosa.onset.onset_detect(onset_envelope=o_env, sr=sr)\n",
    "\n",
    "    D = np.abs(librosa.stft(sig,n_fft=4096))\n",
    "    plt.figure()\n",
    "    ax1 = plt.subplot(2, 1, 1)\n",
    "    librosa.display.specshow(librosa.amplitude_to_db(D, ref=np.max), hop_length=512, x_axis='time', y_axis='log')\n",
    "    plt.title('Estimated from Onset Envelope')\n",
    "    plt.subplot(2, 1, 2, sharex=ax1)\n",
    "    plt.plot(times, o_env, label='Onset strength')\n",
    "    plt.vlines(times[onset_frames], 0, o_env.max(), color='r', alpha=0.9, linestyle='--', label='Onsets')\n",
    "    plt.axis('tight')\n",
    "    plt.legend(frameon=True, framealpha=0.75)\n",
    "\n",
    "    return onset_frames"
   ]
  },
  {
   "cell_type": "code",
   "execution_count": null,
   "metadata": {
    "id": "mFBLLx9AfxNc"
   },
   "outputs": [],
   "source": [
    "def getOnsetsWrapper(filename):\n",
    "    sig , sr = librosa.load(filename,mono=True,sr=None)\n",
    "\n",
    "    # estimate onsets from an onset envelope\n",
    "    onset_frames = getOnsetsEnv(sig,sr)\n",
    "    print('Estimated onsets:')\n",
    "    print(librosa.frames_to_time(onset_frames, sr=sr))"
   ]
  },
  {
   "cell_type": "code",
   "execution_count": null,
   "metadata": {
    "id": "MHLyJUslfw8e"
   },
   "outputs": [],
   "source": [
    "def readOnsetCSV(audiofilename,csvfilename):\n",
    "\n",
    "    df = pandas.read_csv(csvfilename,header=None)\n",
    "    times=df.loc[:,0]\n",
    "\n",
    "    sig , sr = librosa.load(audiofilename,mono=True,sr=None)\n",
    "    D = np.abs(librosa.stft(sig,n_fft=4096))\n",
    "    plt.figure()\n",
    "    ax1 = plt.subplot(2, 1, 1)\n",
    "    librosa.display.specshow(librosa.amplitude_to_db(D, ref=np.max), x_axis='time', y_axis='log')\n",
    "    plt.title('Estimated from Sonic Visualiser')\n",
    "    plt.subplot(2, 1, 2, sharex=ax1)\n",
    "    plt.vlines(times, 0, 1, color='r', alpha=0.9, linestyle='--', label='Onsets')\n",
    "    plt.axis('tight')\n",
    "    plt.legend(frameon=True, framealpha=0.75)\n",
    "\n",
    "    print('Estimated onsets:')\n",
    "    print(times.tolist())\n"
   ]
  },
  {
   "cell_type": "code",
   "execution_count": null,
   "metadata": {
    "colab": {
     "base_uri": "https://localhost:8080/"
    },
    "id": "99e6HkiFbSkH",
    "outputId": "5d256180-736b-4307-f33f-dd67e8ce81f3"
   },
   "outputs": [],
   "source": [
    "!pip3 install -r /content/gawayneLessons/files/requirements.txt"
   ]
  },
  {
   "cell_type": "code",
   "execution_count": null,
   "metadata": {
    "colab": {
     "base_uri": "https://localhost:8080/"
    },
    "id": "gHf1ofeOvB7Y",
    "outputId": "0381b3cb-9702-4b05-fa59-d95976da951f"
   },
   "outputs": [],
   "source": [
    "pip install openunmix"
   ]
  },
  {
   "cell_type": "code",
   "execution_count": null,
   "metadata": {
    "id": "pUYaV56G2BD2"
   },
   "outputs": [],
   "source": [
    "def getOnsetsEnv(sig,sr=44100):\n",
    "\n",
    "    o_env = librosa.onset.onset_strength(sig, sr=sr)\n",
    "    times = librosa.frames_to_time(np.arange(len(o_env)), sr=sr)\n",
    "    onset_frames = librosa.onset.onset_detect(onset_envelope=o_env, sr=sr)\n",
    "\n",
    "    D = np.abs(librosa.stft(sig,n_fft=4096))\n",
    "    plt.figure()\n",
    "    ax1 = plt.subplot(2, 1, 1)\n",
    "    librosa.display.specshow(librosa.amplitude_to_db(D, ref=np.max), hop_length=512, x_axis='time', y_axis='log')\n",
    "    plt.title('Estimated from Onset Envelope')\n",
    "    plt.subplot(2, 1, 2, sharex=ax1)\n",
    "    plt.plot(times, o_env, label='Onset strength')\n",
    "    plt.vlines(times[onset_frames], 0, o_env.max(), color='r', alpha=0.9, linestyle='--', label='Onsets')\n",
    "    plt.axis('tight')\n",
    "    plt.legend(frameon=True, framealpha=0.75)\n",
    "\n",
    "    return onset_frames"
   ]
  },
  {
   "cell_type": "code",
   "execution_count": null,
   "metadata": {
    "id": "8_WUN1Wr2ORe"
   },
   "outputs": [],
   "source": [
    "def getOnsetsWrapper(filename):\n",
    "    sig , sr = librosa.load(filename,mono=True,sr=None)\n",
    "\n",
    "    # estimate onsets from an onset envelope\n",
    "    onset_frames = getOnsetsEnv(sig,sr)\n",
    "    print('Estimated onsets:')\n",
    "    print(librosa.frames_to_time(onset_frames, sr=sr))\n"
   ]
  },
  {
   "cell_type": "code",
   "execution_count": null,
   "metadata": {
    "colab": {
     "base_uri": "https://localhost:8080/",
     "height": 1000
    },
    "id": "OoDiygAN3e94",
    "outputId": "344924e8-1d9c-4c6a-cf40-e47c7095011b"
   },
   "outputs": [],
   "source": [
    "getOnsetsWrapper(file1)"
   ]
  },
  {
   "cell_type": "code",
   "execution_count": null,
   "metadata": {
    "colab": {
     "base_uri": "https://localhost:8080/",
     "height": 1000
    },
    "id": "SEjPoTsH3mGd",
    "outputId": "b0a63ba0-9bdc-4000-d4c2-e024807c95bf"
   },
   "outputs": [],
   "source": [
    "getOnsetsWrapper(file1b)"
   ]
  },
  {
   "cell_type": "code",
   "execution_count": null,
   "metadata": {},
   "outputs": [],
   "source": []
  }
 ],
 "metadata": {
  "colab": {
   "include_colab_link": true,
   "provenance": []
  },
  "kernelspec": {
   "display_name": "Python 3 (ipykernel)",
   "language": "python",
   "name": "python3"
  },
  "language_info": {
   "codemirror_mode": {
    "name": "ipython",
    "version": 3
   },
   "file_extension": ".py",
   "mimetype": "text/x-python",
   "name": "python",
   "nbconvert_exporter": "python",
   "pygments_lexer": "ipython3",
   "version": "3.11.4"
  }
 },
 "nbformat": 4,
 "nbformat_minor": 1
}
