{
 "cells": [
  {
   "cell_type": "markdown",
   "metadata": {
    "colab_type": "text",
    "id": "view-in-github"
   },
   "source": [
    "<a href=\"https://colab.research.google.com/github/gawayne29/gawayneLessons/blob/main/week2/YINandSpectralFeatures.ipynb\" target=\"_parent\"><img src=\"https://colab.research.google.com/assets/colab-badge.svg\" alt=\"Open In Colab\"/></a>"
   ]
  },
  {
   "cell_type": "markdown",
   "metadata": {
    "id": "qT1qYRUg965f"
   },
   "source": [
    "## YIN algorithm, implemented in Aubio: https://aubio.org/"
   ]
  },
  {
   "cell_type": "code",
   "execution_count": 1,
   "metadata": {
    "colab": {
     "base_uri": "https://localhost:8080/"
    },
    "id": "gP8kuz4j965g",
    "outputId": "f9ac09cf-fffc-482b-fd5c-b64408a764ab"
   },
   "outputs": [
    {
     "name": "stdout",
     "output_type": "stream",
     "text": [
      "Collecting aubio\n",
      "  Downloading aubio-0.4.9.tar.gz (479 kB)\n",
      "\u001b[2K     \u001b[90m━━━━━━━━━━━━━━━━━━━━━━━━━━━━━━━━━━━━━━━\u001b[0m \u001b[32m479.0/479.0 kB\u001b[0m \u001b[31m3.8 MB/s\u001b[0m eta \u001b[36m0:00:00\u001b[0m00:01\u001b[0m00:01\u001b[0m\n",
      "\u001b[?25h  Preparing metadata (setup.py) ... \u001b[?25ldone\n",
      "\u001b[?25hRequirement already satisfied: numpy in /Users/gcportable/anaconda3/lib/python3.11/site-packages (from aubio) (1.24.3)\n",
      "Building wheels for collected packages: aubio\n",
      "  Building wheel for aubio (setup.py) ... \u001b[?25ldone\n",
      "\u001b[?25h  Created wheel for aubio: filename=aubio-0.4.9-cp311-cp311-macosx_10_9_x86_64.whl size=145008 sha256=e08ded9c2a947943cd8c0aa6ec8893f848f13b7769e804771bc4142dc0a14b6f\n",
      "  Stored in directory: /Users/gcportable/Library/Caches/pip/wheels/61/2b/91/998862d8e1f1e620c1d81c57d0bbe1cd5fc09f66563496db3f\n",
      "Successfully built aubio\n",
      "Installing collected packages: aubio\n",
      "Successfully installed aubio-0.4.9\n"
     ]
    },
    {
     "ename": "ModuleNotFoundError",
     "evalue": "No module named 'librosa'",
     "output_type": "error",
     "traceback": [
      "\u001b[0;31m---------------------------------------------------------------------------\u001b[0m",
      "\u001b[0;31mModuleNotFoundError\u001b[0m                       Traceback (most recent call last)",
      "Cell \u001b[0;32mIn[1], line 6\u001b[0m\n\u001b[1;32m      3\u001b[0m get_ipython()\u001b[38;5;241m.\u001b[39msystem(\u001b[38;5;124m'\u001b[39m\u001b[38;5;124mpip install aubio\u001b[39m\u001b[38;5;124m'\u001b[39m)\n\u001b[1;32m      4\u001b[0m \u001b[38;5;28;01mimport\u001b[39;00m \u001b[38;5;21;01maubio\u001b[39;00m\n\u001b[0;32m----> 6\u001b[0m \u001b[38;5;28;01mimport\u001b[39;00m \u001b[38;5;21;01mlibrosa\u001b[39;00m\n\u001b[1;32m      7\u001b[0m \u001b[38;5;28;01mimport\u001b[39;00m \u001b[38;5;21;01mlibrosa\u001b[39;00m\u001b[38;5;21;01m.\u001b[39;00m\u001b[38;5;21;01mdisplay\u001b[39;00m\n\u001b[1;32m      8\u001b[0m \u001b[38;5;28;01mimport\u001b[39;00m \u001b[38;5;21;01mpandas\u001b[39;00m\n",
      "\u001b[0;31mModuleNotFoundError\u001b[0m: No module named 'librosa'"
     ]
    }
   ],
   "source": [
    "import matplotlib.pyplot as plt\n",
    "import numpy as np\n",
    "!pip install aubio\n",
    "import aubio\n",
    "\n",
    "import librosa\n",
    "import librosa.display\n",
    "import pandas\n",
    "\n",
    "!git clone https://github.com/jcdevaney/gawayneLessons.git"
   ]
  },
  {
   "cell_type": "code",
   "execution_count": null,
   "metadata": {
    "id": "wXX2ZTVW965g"
   },
   "outputs": [],
   "source": [
    "# YIN pitches\n",
    "filename='/content/gawayneLessons/files/Michael - Jackson Earth Song - TRIM.wav'\n",
    "downsample = 1\n",
    "samplerate = 0\n",
    "win_s = 1764 // downsample # fft size\n",
    "hop_s = 441 // downsample # hop size\n",
    "s = aubio.source(filename, samplerate, hop_s)\n",
    "samplerate = s.samplerate\n",
    "tolerance = 0.1\n",
    "\n",
    "pitch_o = aubio.pitch(\"yin\", win_s, hop_s, samplerate)\n",
    "#pitch_o.set_unit(\"midi\")\n",
    "pitch_o.set_tolerance(tolerance)\n",
    "\n",
    "pitchesYIN = []\n",
    "confidences = []\n",
    "total_frames = 0\n",
    "while True:\n",
    "    samples, read = s()\n",
    "    pitch = pitch_o(samples)[0]\n",
    "    pitch = int(round(pitch))\n",
    "    confidence = pitch_o.get_confidence()\n",
    "    pitchesYIN += [pitch]\n",
    "    confidences += [confidence]\n",
    "    total_frames += read\n",
    "    if read < hop_s:\n",
    "         break"
   ]
  },
  {
   "cell_type": "code",
   "execution_count": null,
   "metadata": {
    "colab": {
     "base_uri": "https://localhost:8080/",
     "height": 570
    },
    "id": "iI_fDPeZ965h",
    "outputId": "682149cc-931c-43aa-da09-e0f4b946943c"
   },
   "outputs": [],
   "source": [
    "\n",
    "\n",
    "plt.figure(figsize=(12, 8))\n",
    "plt.subplot(1,1,1)\n",
    "plt.plot(np.asarray(pitchesYIN))\n"
   ]
  },
  {
   "cell_type": "markdown",
   "metadata": {
    "id": "PV98mzva965h"
   },
   "source": [
    "## Some notes on the functions\n",
    "\n",
    "### Function 1\n",
    "yinvalues = getYinVals(filename)\n",
    "\n",
    "### Function 2\n",
    "subplotFunc(yinvalues,subplotNum,additionalargs)\n",
    "\n",
    "Calls:\n",
    "plt.subplot(1,1,subplotNume) and plt.plot(np.asarray(yinvalues))\n",
    "\n",
    "### How you'll call the functions\n",
    "\n",
    "yinvalues1 = getYinVals(filename1)\n",
    "yinvalues2 = getYinVals(filename2)\n",
    "yinvalues3 = getYinVals(filename3)\n",
    "yinvalues4 = getYinVals(filename4)\n",
    "yinvalues5 = getYinVals(filename5)\n",
    "yinvalues6 = getYinVals(filename6)\n",
    "\n",
    "plt.figure(figsize=(12, 8))\n",
    "\n",
    "subplotFunc(yinvalues1,1,additionalargs)\n",
    "subplotFunc(yinvalues2,2,additionalargs)\n",
    "subplotFunc(yinvalues3,3,additionalargs)\n",
    "subplotFunc(yinvalues4,4,additionalargs)\n",
    "subplotFunc(yinvalues5,5,additionalargs)\n",
    "subplotFunc(yinvalues6,6,additionalargs)"
   ]
  },
  {
   "cell_type": "markdown",
   "metadata": {
    "id": "ZmdKk1ofBSSu"
   },
   "source": [
    "# pYIN algorithm, implemented in librosa: https://librosa.org/"
   ]
  },
  {
   "cell_type": "code",
   "execution_count": null,
   "metadata": {
    "colab": {
     "base_uri": "https://localhost:8080/"
    },
    "id": "s1pSuJwvBZ60",
    "outputId": "bdff99d8-223c-45ce-ca8a-d9ab3648edc2"
   },
   "outputs": [],
   "source": [
    "# USE THIS CODE\n",
    "\n",
    "import matplotlib.pyplot as plt\n",
    "import numpy as np\n",
    "import librosa\n",
    "\n",
    "!git clone https://github.com/jcdevaney/gawayneLessons.git"
   ]
  },
  {
   "cell_type": "code",
   "execution_count": null,
   "metadata": {
    "id": "BhkkXWbT965h"
   },
   "outputs": [],
   "source": [
    "# USE THIS CODE\n",
    "\n",
    "#https://librosa.org/doc/latest/generated/librosa.pyin.html\n",
    "\n",
    "# loading the audio file\n",
    "y, sr = librosa.load('/content/gawayneLessons/files/Michael - Jackson Earth Song - TRIM.wav')\n",
    "\n",
    "# runing the f0 estimation\n",
    "f0, voiced_flag, voiced_probs = librosa.pyin(y,\n",
    "                                             fmin=librosa.note_to_hz('C2'),\n",
    "                                             fmax=librosa.note_to_hz('C7'))\n",
    "\n",
    "# is to create a vector of time points that corresponds to the audio (useful for plotting)\n",
    "times = librosa.times_like(f0)"
   ]
  },
  {
   "cell_type": "code",
   "execution_count": null,
   "metadata": {
    "colab": {
     "base_uri": "https://localhost:8080/",
     "height": 489
    },
    "id": "z7iFm0nqAkKM",
    "outputId": "c1443a87-48e8-4353-c2c7-cd27359c371b"
   },
   "outputs": [],
   "source": [
    "# USE THIS CODE\n",
    "\n",
    "# Overlay F0 over a spectrogram\n",
    "\n",
    "# run the short time fourier transform\n",
    "D = librosa.amplitude_to_db(np.abs(librosa.stft(y)), ref=np.max)\n",
    "\n",
    "# setting up subplots\n",
    "fig, ax = plt.subplots()\n",
    "\n",
    "# generating the spectrogram\n",
    "img = librosa.display.specshow(D, x_axis='time', y_axis='log', ax=ax)\n",
    "\n",
    "# plotting\n",
    "ax.set(title='pYIN fundamental frequency estimation')\n",
    "fig.colorbar(img, ax=ax, format=\"%+2.f dB\")\n",
    "ax.plot(times, f0, label='f0', color='cyan', linewidth=3)\n",
    "ax.legend(loc='upper right')"
   ]
  },
  {
   "cell_type": "code",
   "execution_count": null,
   "metadata": {
    "colab": {
     "base_uri": "https://localhost:8080/",
     "height": 1000
    },
    "id": "_HOR6NS41onO",
    "outputId": "f7edb65c-686f-420b-cb12-b922c981d14c"
   },
   "outputs": [],
   "source": [
    "import matplotlib.pyplot as plt\n",
    "import numpy as np\n",
    "import librosa\n",
    "\n",
    "def analyzeAudio(audioPath):\n",
    "  audioVals = {}\n",
    "  y, sr = librosa.load(audioPath)\n",
    "  audioVals['specCent'] =librosa.feature.spectral_centroid(y=y, sr=sr, n_fft=2048, hop_length=512, freq=None)\n",
    "  audioVals['specBand'] = librosa.feature.spectral_bandwidth(y=y, sr=sr, n_fft=2048, hop_length=512, freq=None)\n",
    "  audioVals['specContrast'] = librosa.feature.spectral_contrast(y=y, sr=sr, n_fft=2048, hop_length=512, freq=None)\n",
    "  audioVals['specFlatness'] = librosa.feature.spectral_flatness(y=y)\n",
    "\n",
    "  audioVals['f0'], voiced_flag, audioVals['voiced_probs'] = librosa.pyin(y,\n",
    "                                              fmin=librosa.note_to_hz('C2'),\n",
    "                                              fmax=librosa.note_to_hz('C7'))\n",
    "  audioVals['f0mean'] = np.nanmean(audioVals['f0'])\n",
    "\n",
    "\n",
    "\n",
    "  return audioVals\n",
    "\n",
    "def plotAudioVals(audioVals,audioPath,plotTitle,dataName):\n",
    "  y, sr = librosa.load(audioPath)\n",
    "  times = librosa.times_like(audioVals[dataName])\n",
    "  D = librosa.amplitude_to_db(np.abs(librosa.stft(y)), ref=np.max)\n",
    "  fig, ax = plt.subplots()\n",
    "  img = librosa.display.specshow(D, x_axis='time', y_axis='log', ax=ax)\n",
    "  ax.set(title=plotTitle)\n",
    "  fig.colorbar(img, ax=ax, format=\"%+2.f dB\")\n",
    "  ax.plot(times, audioVals[dataName], label=dataName, color='cyan', linewidth=3)\n",
    "  ax.legend(loc='upper right')\n",
    "  plt.show()\n",
    "\n",
    "  return\n",
    "\n",
    "\n",
    "\n",
    "\n",
    "audioPath = '/content/gawayneLessons/files/Israel IZ Kamakawiwoʻole - Somewhere over the Rainbow - TRIM.wav'\n",
    "file1 = analyzeAudio(audioPath)\n",
    "plotAudioVals(file1,audioPath,'pYIN fundamental frequency estimation','f0')\n",
    "\n",
    "audioPath = '/content/gawayneLessons/files/Israel IZ Kamakawiwoʻole - Somewhere over the Rainbow - VOCALS - TRIM.wav'\n",
    "file1b = analyzeAudio(audioPath)\n",
    "plotAudioVals(file1,audioPath,'pYIN fundamental frequency estimation','f0')\n",
    "\n",
    "audioPath = '/content/gawayneLessons/files/Michael - Jackson Earth Song - TRIM.wav'\n",
    "file2 = analyzeAudio(audioPath)\n",
    "plotAudioVals(file2,audioPath,'pYIN fundamental frequency estimation','f0')\n",
    "\n",
    "audioPath = '/content/gawayneLessons/files/Michael - Jackson Earth Song - VOCALS - TRIM.wav'\n",
    "file2b = analyzeAudio(audioPath)\n",
    "plotAudioVals(file2,audioPath,'pYIN fundamental frequency estimation','f0')\n",
    "\n",
    "audioPath = '/content/gawayneLessons/files/Zaini - Wherever you would call me - TRIM.wav'\n",
    "file3 = analyzeAudio(audioPath)\n",
    "plotAudioVals(file3,audioPath,'pYIN fundamental frequency estimation','f0')\n",
    "\n",
    "audioPath = '/content/gawayneLessons/files/Zaini - Wherever you would call me - VOCALS - TRIM.wav'\n",
    "file3b = analyzeAudio(audioPath)\n",
    "plotAudioVals(file3,audioPath,'pYIN fundamental frequency estimation','f0')\n"
   ]
  },
  {
   "cell_type": "code",
   "execution_count": null,
   "metadata": {
    "id": "ydh8gJB4fkYS"
   },
   "outputs": [],
   "source": [
    "audioPathList = ['/content/gawayneLessons/files/Israel IZ Kamakawiwoʻole - Somewhere over the Rainbow - TRIM.wav', '/content/gawayneLessons/files/Israel IZ Kamakawiwoʻole - Somewhere over the Rainbow - VOCALS - TRIM.wav',\n",
    "'/content/gawayneLessons/files/Michael - Jackson Earth Song - TRIM.wav', '/content/gawayneLessons/files/Michael - Jackson Earth Song - VOCALS - TRIM.wav', '/content/gawayneLessons/files/Zaini - Wherever you would call me - TRIM.wav', '/content/gawayneLessons/files/Zaini - Wherever you would call me - VOCALS - TRIM.wav']\n",
    "\n",
    "for file in audioPathList:\n",
    "  analyzeAudio(file)"
   ]
  },
  {
   "cell_type": "code",
   "execution_count": null,
   "metadata": {
    "colab": {
     "base_uri": "https://localhost:8080/",
     "height": 451
    },
    "id": "BbmETLtkBqGU",
    "outputId": "4805dadd-4752-4eec-8023-81aae057ea9b"
   },
   "outputs": [],
   "source": [
    "fig, ax = plt.subplots(2)\n",
    "ax[0].plot(times, f0)\n",
    "ax[1].plot(times, voiced_probs)"
   ]
  },
  {
   "cell_type": "code",
   "execution_count": null,
   "metadata": {
    "colab": {
     "base_uri": "https://localhost:8080/",
     "height": 447
    },
    "id": "WKz7Sz2RiH_E",
    "outputId": "58ab8cf9-a8fb-4de9-acd9-0639cf045251"
   },
   "outputs": [],
   "source": [
    "plt.plot(file1b['f0'])\n",
    "print(file1b['f0mean'])"
   ]
  },
  {
   "cell_type": "code",
   "execution_count": null,
   "metadata": {
    "colab": {
     "base_uri": "https://localhost:8080/",
     "height": 447
    },
    "id": "iQOtRTpSiOG2",
    "outputId": "ae817d24-1019-49aa-f33d-9c682b9867f8"
   },
   "outputs": [],
   "source": [
    "plt.plot(file1b['voiced_probs'])"
   ]
  },
  {
   "cell_type": "code",
   "execution_count": null,
   "metadata": {
    "colab": {
     "base_uri": "https://localhost:8080/",
     "height": 447
    },
    "id": "peXzzWGMidkP",
    "outputId": "e2fa747f-dcb6-41db-b2ac-b9b445f82b67"
   },
   "outputs": [],
   "source": [
    "plt.plot(file1b['f0'][file1b['voiced_probs']>0.8])\n",
    "print(np.mean(file1b['f0'][file1b['voiced_probs']>0.8]))"
   ]
  },
  {
   "cell_type": "code",
   "execution_count": null,
   "metadata": {
    "colab": {
     "base_uri": "https://localhost:8080/"
    },
    "id": "l9gmUhKZjE6h",
    "outputId": "904839db-3403-4562-de7d-08bc778eb09c"
   },
   "outputs": [],
   "source": [
    "print(np.mean(file1b['f0'][file1b['voiced_probs']>0.8]))\n",
    "print(np.mean(file2b['f0'][file2b['voiced_probs']>0.8]))\n",
    "print(np.mean(file3b['f0'][file3b['voiced_probs']>0.8]))"
   ]
  },
  {
   "cell_type": "markdown",
   "metadata": {
    "id": "JCdjveUEkAZm"
   },
   "source": [
    "For next week create a function that call spectral centroid, spectral bandwidth, spectral constrast, and spectral flatness\n",
    "\n",
    "\n",
    "## spectral centroid\n",
    "    audioVals['specCent']=librosa.feature.spectral_centroid(y=sig, sr=sr, n_fft=2048, hop_length=512, freq=None)\n",
    "    \n",
    "## spectral bandwidth\n",
    "    audioVals['specBand']=librosa.feature.spectral_bandwidth(y=sig, sr=sr, n_fft=2048, hop_length=512, freq=None)\n",
    "    \n",
    "## spectral contrast\n",
    "    audioVals['specContrast']=librosa.feature.spectral_contrast(y=sig, sr=sr, n_fft=2048, hop_length=512, freq=None)\n",
    "    \n",
    "## spectral flatness\n",
    "    audioVals['specFlatness']=librosa.feature.spectral_flatness(y=sig)"
   ]
  },
  {
   "cell_type": "markdown",
   "metadata": {
    "id": "rY6MhqUZlaJ7"
   },
   "source": [
    "The function will return the dictionary audioVals and you'll be able to plot or do calculations on the f0, specCent, specBand, specContrast, specFlatness elements"
   ]
  },
  {
   "cell_type": "code",
   "execution_count": null,
   "metadata": {
    "id": "vTID32F1j-YA"
   },
   "outputs": [],
   "source": []
  },
  {
   "cell_type": "code",
   "execution_count": null,
   "metadata": {
    "id": "fGqp0_FZfxbT"
   },
   "outputs": [],
   "source": [
    "def getOnsetsEnv(sig,sr=44100):\n",
    "\n",
    "    o_env = librosa.onset.onset_strength(sig, sr=sr)\n",
    "    times = librosa.frames_to_time(np.arange(len(o_env)), sr=sr)\n",
    "    onset_frames = librosa.onset.onset_detect(onset_envelope=o_env, sr=sr)\n",
    "\n",
    "    D = np.abs(librosa.stft(sig,n_fft=4096))\n",
    "    plt.figure()\n",
    "    ax1 = plt.subplot(2, 1, 1)\n",
    "    librosa.display.specshow(librosa.amplitude_to_db(D, ref=np.max), hop_length=512, x_axis='time', y_axis='log')\n",
    "    plt.title('Estimated from Onset Envelope')\n",
    "    plt.subplot(2, 1, 2, sharex=ax1)\n",
    "    plt.plot(times, o_env, label='Onset strength')\n",
    "    plt.vlines(times[onset_frames], 0, o_env.max(), color='r', alpha=0.9, linestyle='--', label='Onsets')\n",
    "    plt.axis('tight')\n",
    "    plt.legend(frameon=True, framealpha=0.75)\n",
    "\n",
    "    return onset_frames"
   ]
  },
  {
   "cell_type": "code",
   "execution_count": null,
   "metadata": {
    "id": "mFBLLx9AfxNc"
   },
   "outputs": [],
   "source": [
    "def getOnsetsWrapper(filename):\n",
    "    sig , sr = librosa.load(filename,mono=True,sr=None)\n",
    "\n",
    "    # estimate onsets from an onset envelope\n",
    "    onset_frames = getOnsetsEnv(sig,sr)\n",
    "    print('Estimated onsets:')\n",
    "    print(librosa.frames_to_time(onset_frames, sr=sr))"
   ]
  },
  {
   "cell_type": "code",
   "execution_count": null,
   "metadata": {
    "id": "MHLyJUslfw8e"
   },
   "outputs": [],
   "source": [
    "def readOnsetCSV(audiofilename,csvfilename):\n",
    "\n",
    "    df = pandas.read_csv(csvfilename,header=None)\n",
    "    times=df.loc[:,0]\n",
    "\n",
    "    sig , sr = librosa.load(audiofilename,mono=True,sr=None)\n",
    "    D = np.abs(librosa.stft(sig,n_fft=4096))\n",
    "    plt.figure()\n",
    "    ax1 = plt.subplot(2, 1, 1)\n",
    "    librosa.display.specshow(librosa.amplitude_to_db(D, ref=np.max), x_axis='time', y_axis='log')\n",
    "    plt.title('Estimated from Sonic Visualiser')\n",
    "    plt.subplot(2, 1, 2, sharex=ax1)\n",
    "    plt.vlines(times, 0, 1, color='r', alpha=0.9, linestyle='--', label='Onsets')\n",
    "    plt.axis('tight')\n",
    "    plt.legend(frameon=True, framealpha=0.75)\n",
    "\n",
    "    print('Estimated onsets:')\n",
    "    print(times.tolist())\n"
   ]
  },
  {
   "cell_type": "code",
   "execution_count": null,
   "metadata": {
    "colab": {
     "base_uri": "https://localhost:8080/"
    },
    "id": "99e6HkiFbSkH",
    "outputId": "5d256180-736b-4307-f33f-dd67e8ce81f3"
   },
   "outputs": [],
   "source": [
    "!pip3 install -r /content/gawayneLessons/files/requirements.txt"
   ]
  },
  {
   "cell_type": "code",
   "execution_count": null,
   "metadata": {
    "colab": {
     "base_uri": "https://localhost:8080/"
    },
    "id": "gHf1ofeOvB7Y",
    "outputId": "0381b3cb-9702-4b05-fa59-d95976da951f"
   },
   "outputs": [],
   "source": [
    "pip install openunmix"
   ]
  },
  {
   "cell_type": "code",
   "execution_count": null,
   "metadata": {
    "id": "pUYaV56G2BD2"
   },
   "outputs": [],
   "source": [
    "def getOnsetsEnv(sig,sr=44100):\n",
    "\n",
    "    o_env = librosa.onset.onset_strength(sig, sr=sr)\n",
    "    times = librosa.frames_to_time(np.arange(len(o_env)), sr=sr)\n",
    "    onset_frames = librosa.onset.onset_detect(onset_envelope=o_env, sr=sr)\n",
    "\n",
    "    D = np.abs(librosa.stft(sig,n_fft=4096))\n",
    "    plt.figure()\n",
    "    ax1 = plt.subplot(2, 1, 1)\n",
    "    librosa.display.specshow(librosa.amplitude_to_db(D, ref=np.max), hop_length=512, x_axis='time', y_axis='log')\n",
    "    plt.title('Estimated from Onset Envelope')\n",
    "    plt.subplot(2, 1, 2, sharex=ax1)\n",
    "    plt.plot(times, o_env, label='Onset strength')\n",
    "    plt.vlines(times[onset_frames], 0, o_env.max(), color='r', alpha=0.9, linestyle='--', label='Onsets')\n",
    "    plt.axis('tight')\n",
    "    plt.legend(frameon=True, framealpha=0.75)\n",
    "\n",
    "    return onset_frames"
   ]
  },
  {
   "cell_type": "code",
   "execution_count": null,
   "metadata": {
    "id": "8_WUN1Wr2ORe"
   },
   "outputs": [],
   "source": [
    "def getOnsetsWrapper(filename):\n",
    "    sig , sr = librosa.load(filename,mono=True,sr=None)\n",
    "\n",
    "    # estimate onsets from an onset envelope\n",
    "    onset_frames = getOnsetsEnv(sig,sr)\n",
    "    print('Estimated onsets:')\n",
    "    print(librosa.frames_to_time(onset_frames, sr=sr))\n"
   ]
  },
  {
   "cell_type": "code",
   "execution_count": null,
   "metadata": {
    "colab": {
     "base_uri": "https://localhost:8080/",
     "height": 1000
    },
    "id": "OoDiygAN3e94",
    "outputId": "344924e8-1d9c-4c6a-cf40-e47c7095011b"
   },
   "outputs": [],
   "source": [
    "getOnsetsWrapper(file1)"
   ]
  },
  {
   "cell_type": "code",
   "execution_count": null,
   "metadata": {
    "colab": {
     "base_uri": "https://localhost:8080/",
     "height": 1000
    },
    "id": "SEjPoTsH3mGd",
    "outputId": "b0a63ba0-9bdc-4000-d4c2-e024807c95bf"
   },
   "outputs": [],
   "source": [
    "getOnsetsWrapper(file1b)"
   ]
  }
 ],
 "metadata": {
  "colab": {
   "include_colab_link": true,
   "provenance": []
  },
  "kernelspec": {
   "display_name": "Python 3 (ipykernel)",
   "language": "python",
   "name": "python3"
  },
  "language_info": {
   "codemirror_mode": {
    "name": "ipython",
    "version": 3
   },
   "file_extension": ".py",
   "mimetype": "text/x-python",
   "name": "python",
   "nbconvert_exporter": "python",
   "pygments_lexer": "ipython3",
   "version": "3.11.4"
  }
 },
 "nbformat": 4,
 "nbformat_minor": 1
}
