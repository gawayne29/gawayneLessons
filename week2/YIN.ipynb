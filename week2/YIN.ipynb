{
  "cells": [
    {
      "cell_type": "markdown",
      "metadata": {
        "id": "view-in-github",
        "colab_type": "text"
      },
      "source": [
        "<a href=\"https://colab.research.google.com/github/jcdevaney/gawayneLessons/blob/main/week2/YIN.ipynb\" target=\"_parent\"><img src=\"https://colab.research.google.com/assets/colab-badge.svg\" alt=\"Open In Colab\"/></a>"
      ]
    },
    {
      "cell_type": "markdown",
      "metadata": {
        "id": "qT1qYRUg965f"
      },
      "source": [
        "## YIN algorithm, implemented in Aubio: https://aubio.org/"
      ]
    },
    {
      "cell_type": "code",
      "execution_count": 2,
      "metadata": {
        "id": "gP8kuz4j965g",
        "outputId": "134fa8ec-29ff-408f-def2-d71e24badd16",
        "colab": {
          "base_uri": "https://localhost:8080/"
        }
      },
      "outputs": [
        {
          "output_type": "stream",
          "name": "stdout",
          "text": [
            "Collecting aubio\n",
            "  Downloading aubio-0.4.9.tar.gz (479 kB)\n",
            "\u001b[?25l     \u001b[90m━━━━━━━━━━━━━━━━━━━━━━━━━━━━━━━━━━━━━━━━\u001b[0m \u001b[32m0.0/479.0 kB\u001b[0m \u001b[31m?\u001b[0m eta \u001b[36m-:--:--\u001b[0m\r\u001b[2K     \u001b[91m━━━━━━━━━━━━━━━━━━━━━━━━━━━━━━━━━\u001b[0m\u001b[90m╺\u001b[0m\u001b[90m━━━━\u001b[0m \u001b[32m419.8/479.0 kB\u001b[0m \u001b[31m13.1 MB/s\u001b[0m eta \u001b[36m0:00:01\u001b[0m\r\u001b[2K     \u001b[90m━━━━━━━━━━━━━━━━━━━━━━━━━━━━━━━━━━━━━━\u001b[0m \u001b[32m479.0/479.0 kB\u001b[0m \u001b[31m11.3 MB/s\u001b[0m eta \u001b[36m0:00:00\u001b[0m\n",
            "\u001b[?25h  Preparing metadata (setup.py) ... \u001b[?25l\u001b[?25hdone\n",
            "Requirement already satisfied: numpy in /usr/local/lib/python3.10/dist-packages (from aubio) (1.23.5)\n",
            "Building wheels for collected packages: aubio\n",
            "  Building wheel for aubio (setup.py) ... \u001b[?25l\u001b[?25hdone\n",
            "  Created wheel for aubio: filename=aubio-0.4.9-cp310-cp310-linux_x86_64.whl size=425173 sha256=4f6a97cb77d8265e8844370814cfb5461d759f00826fea475a63e18646e696d4\n",
            "  Stored in directory: /root/.cache/pip/wheels/00/30/30/a06fe7e9c7fe740486c219851b2bc1c7ed4a97e9c257efd3d7\n",
            "Successfully built aubio\n",
            "Installing collected packages: aubio\n",
            "Successfully installed aubio-0.4.9\n"
          ]
        }
      ],
      "source": [
        "import matplotlib.pyplot as plt\n",
        "import numpy as np\n",
        "!pip install aubio\n",
        "import aubio"
      ]
    },
    {
      "cell_type": "code",
      "execution_count": null,
      "metadata": {
        "id": "wXX2ZTVW965g"
      },
      "outputs": [],
      "source": [
        "# YIN pitches\n",
        "filename='avmA.wav'\n",
        "downsample = 1\n",
        "samplerate = 0\n",
        "win_s = 1764 // downsample # fft size\n",
        "hop_s = 441 // downsample # hop size\n",
        "s = aubio.source(filename, samplerate, hop_s)\n",
        "samplerate = s.samplerate\n",
        "tolerance = 0.1\n",
        "\n",
        "pitch_o = aubio.pitch(\"yin\", win_s, hop_s, samplerate)\n",
        "#pitch_o.set_unit(\"midi\")\n",
        "pitch_o.set_tolerance(tolerance)\n",
        "\n",
        "pitchesYIN = []\n",
        "confidences = []\n",
        "total_frames = 0\n",
        "while True:\n",
        "    samples, read = s()\n",
        "    pitch = pitch_o(samples)[0]\n",
        "    pitch = int(round(pitch))\n",
        "    confidence = pitch_o.get_confidence()\n",
        "    pitchesYIN += [pitch]\n",
        "    confidences += [confidence]\n",
        "    total_frames += read\n",
        "    if read < hop_s:\n",
        "         break"
      ]
    },
    {
      "cell_type": "code",
      "execution_count": null,
      "metadata": {
        "id": "iI_fDPeZ965h"
      },
      "outputs": [],
      "source": [
        "\n",
        "\n",
        "plt.figure(figsize=(12, 8))\n",
        "plt.subplot(1,1,1)\n",
        "plt.plot(np.asarray(pitchesYIN))\n"
      ]
    },
    {
      "cell_type": "markdown",
      "metadata": {
        "id": "PV98mzva965h"
      },
      "source": [
        "## Some notes on the functions\n",
        "\n",
        "### Function 1\n",
        "yinvalues = getYinVals(filename)\n",
        "\n",
        "### Function 2\n",
        "subplotFunc(yinvalues,subplotNum,additionalargs)\n",
        "\n",
        "Calls:\n",
        "plt.subplot(1,1,subplotNume) and plt.plot(np.asarray(yinvalues))\n",
        "\n",
        "### How you'll call the functions\n",
        "\n",
        "yinvalues1 = getYinVals(filename1)\n",
        "yinvalues2 = getYinVals(filename2)\n",
        "yinvalues3 = getYinVals(filename3)\n",
        "yinvalues4 = getYinVals(filename4)\n",
        "yinvalues5 = getYinVals(filename5)\n",
        "yinvalues6 = getYinVals(filename6)\n",
        "\n",
        "plt.figure(figsize=(12, 8))\n",
        "\n",
        "subplotFunc(yinvalues1,1,additionalargs)\n",
        "subplotFunc(yinvalues2,2,additionalargs)\n",
        "subplotFunc(yinvalues3,3,additionalargs)\n",
        "subplotFunc(yinvalues4,4,additionalargs)\n",
        "subplotFunc(yinvalues5,5,additionalargs)\n",
        "subplotFunc(yinvalues6,6,additionalargs)"
      ]
    },
    {
      "cell_type": "code",
      "execution_count": null,
      "metadata": {
        "id": "BhkkXWbT965h"
      },
      "outputs": [],
      "source": []
    }
  ],
  "metadata": {
    "kernelspec": {
      "display_name": "Python 3 (ipykernel)",
      "language": "python",
      "name": "python3"
    },
    "language_info": {
      "codemirror_mode": {
        "name": "ipython",
        "version": 3
      },
      "file_extension": ".py",
      "mimetype": "text/x-python",
      "name": "python",
      "nbconvert_exporter": "python",
      "pygments_lexer": "ipython3",
      "version": "3.11.4"
    },
    "colab": {
      "provenance": [],
      "include_colab_link": true
    }
  },
  "nbformat": 4,
  "nbformat_minor": 0
}