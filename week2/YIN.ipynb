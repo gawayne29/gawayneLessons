{
 "cells": [
  {
   "cell_type": "markdown",
   "metadata": {},
   "source": [
    "## YIN algorithm, implemented in Aubio: https://aubio.org/"
   ]
  },
  {
   "cell_type": "code",
   "execution_count": 1,
   "metadata": {},
   "outputs": [
    {
     "ename": "ModuleNotFoundError",
     "evalue": "No module named 'aubio'",
     "output_type": "error",
     "traceback": [
      "\u001b[0;31m---------------------------------------------------------------------------\u001b[0m",
      "\u001b[0;31mModuleNotFoundError\u001b[0m                       Traceback (most recent call last)",
      "Cell \u001b[0;32mIn[1], line 3\u001b[0m\n\u001b[1;32m      1\u001b[0m \u001b[38;5;28;01mimport\u001b[39;00m \u001b[38;5;21;01mmatplotlib\u001b[39;00m\u001b[38;5;21;01m.\u001b[39;00m\u001b[38;5;21;01mpyplot\u001b[39;00m \u001b[38;5;28;01mas\u001b[39;00m \u001b[38;5;21;01mplt\u001b[39;00m\n\u001b[1;32m      2\u001b[0m \u001b[38;5;28;01mimport\u001b[39;00m \u001b[38;5;21;01mnumpy\u001b[39;00m \u001b[38;5;28;01mas\u001b[39;00m \u001b[38;5;21;01mnp\u001b[39;00m\n\u001b[0;32m----> 3\u001b[0m \u001b[38;5;28;01mimport\u001b[39;00m \u001b[38;5;21;01maubio\u001b[39;00m\n",
      "\u001b[0;31mModuleNotFoundError\u001b[0m: No module named 'aubio'"
     ]
    }
   ],
   "source": [
    "import matplotlib.pyplot as plt\n",
    "import numpy as np\n",
    "import aubio"
   ]
  },
  {
   "cell_type": "code",
   "execution_count": null,
   "metadata": {},
   "outputs": [],
   "source": [
    "# YIN pitches\n",
    "filename='avmA.wav'\n",
    "downsample = 1\n",
    "samplerate = 0\n",
    "win_s = 1764 // downsample # fft size\n",
    "hop_s = 441 // downsample # hop size\n",
    "s = aubio.source(filename, samplerate, hop_s)\n",
    "samplerate = s.samplerate\n",
    "tolerance = 0.1\n",
    "\n",
    "pitch_o = aubio.pitch(\"yin\", win_s, hop_s, samplerate) \n",
    "#pitch_o.set_unit(\"midi\")\n",
    "pitch_o.set_tolerance(tolerance)\n",
    "\n",
    "pitchesYIN = []\n",
    "confidences = [] \n",
    "total_frames = 0\n",
    "while True:\n",
    "    samples, read = s()\n",
    "    pitch = pitch_o(samples)[0]\n",
    "    pitch = int(round(pitch))\n",
    "    confidence = pitch_o.get_confidence()\n",
    "    pitchesYIN += [pitch]\n",
    "    confidences += [confidence]\n",
    "    total_frames += read\n",
    "    if read < hop_s:\n",
    "         break        "
   ]
  },
  {
   "cell_type": "code",
   "execution_count": null,
   "metadata": {},
   "outputs": [],
   "source": [
    "\n",
    "\n",
    "plt.figure(figsize=(12, 8))\n",
    "plt.subplot(1,1,1)    \n",
    "plt.plot(np.asarray(pitchesYIN))\n"
   ]
  },
  {
   "cell_type": "markdown",
   "metadata": {},
   "source": [
    "## Some notes on the functions\n",
    "\n",
    "### Function 1\n",
    "yinvalues = getYinVals(filename)\n",
    "\n",
    "### Function 2\n",
    "subplotFunc(yinvalues,subplotNum,additionalargs)\n",
    "\n",
    "Calls:\n",
    "plt.subplot(1,1,subplotNume) and plt.plot(np.asarray(yinvalues))\n",
    "\n",
    "### How you'll call the functions\n",
    "\n",
    "yinvalues1 = getYinVals(filename1)\n",
    "yinvalues2 = getYinVals(filename2)\n",
    "yinvalues3 = getYinVals(filename3)\n",
    "yinvalues4 = getYinVals(filename4)\n",
    "yinvalues5 = getYinVals(filename5)\n",
    "yinvalues6 = getYinVals(filename6)\n",
    "\n",
    "plt.figure(figsize=(12, 8))\n",
    "\n",
    "subplotFunc(yinvalues1,1,additionalargs)\n",
    "subplotFunc(yinvalues2,2,additionalargs)\n",
    "subplotFunc(yinvalues3,3,additionalargs)\n",
    "subplotFunc(yinvalues4,4,additionalargs)\n",
    "subplotFunc(yinvalues5,5,additionalargs)\n",
    "subplotFunc(yinvalues6,6,additionalargs)"
   ]
  },
  {
   "cell_type": "code",
   "execution_count": null,
   "metadata": {},
   "outputs": [],
   "source": []
  }
 ],
 "metadata": {
  "kernelspec": {
   "display_name": "Python 3 (ipykernel)",
   "language": "python",
   "name": "python3"
  },
  "language_info": {
   "codemirror_mode": {
    "name": "ipython",
    "version": 3
   },
   "file_extension": ".py",
   "mimetype": "text/x-python",
   "name": "python",
   "nbconvert_exporter": "python",
   "pygments_lexer": "ipython3",
   "version": "3.11.4"
  }
 },
 "nbformat": 4,
 "nbformat_minor": 2
}
